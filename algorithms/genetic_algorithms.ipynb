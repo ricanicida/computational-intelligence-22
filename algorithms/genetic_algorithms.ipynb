{
 "cells": [
  {
   "cell_type": "markdown",
   "metadata": {},
   "source": [
    "# Genetic Algorithms\n",
    "#### Ricardo Nicida Kazama\n",
    "#### Computational Intelligence Course"
   ]
  },
  {
   "cell_type": "markdown",
   "metadata": {},
   "source": [
    "#### One max problem - simplified solution"
   ]
  },
  {
   "cell_type": "code",
   "execution_count": 3,
   "metadata": {},
   "outputs": [],
   "source": [
    "import random"
   ]
  },
  {
   "cell_type": "code",
   "execution_count": 27,
   "metadata": {},
   "outputs": [],
   "source": [
    "PROBLEM_SIZE = 10\n",
    "POPULATION_SIZE = 10\n",
    "OFFSPRING_SIZE = 2"
   ]
  },
  {
   "cell_type": "code",
   "execution_count": 76,
   "metadata": {},
   "outputs": [],
   "source": [
    "def onemax(genome):\n",
    "    return sum(genome)\n",
    "\n",
    "def select_parent(population, tournament_size=2):\n",
    "    subset = random.choices(population, k=tournament_size)\n",
    "    return max(subset, key=lambda i: i[1])\n",
    "\n",
    "def cross_over(g1, g2):\n",
    "    cut = random.randint(0, PROBLEM_SIZE)\n",
    "    ng = g1[:cut] + g2[cut:]\n",
    "    return ng\n",
    "\n",
    "def mutation(g):\n",
    "    cut = random.randint(1, PROBLEM_SIZE)\n",
    "    ng = g[:cut-1] + (1 - g[cut-1],) + g[cut:]\n",
    "    return ng"
   ]
  },
  {
   "cell_type": "code",
   "execution_count": 5,
   "metadata": {},
   "outputs": [
    {
     "data": {
      "text/plain": [
       "[0, 1, 1, 0, 1, 1, 0, 0, 0, 1]"
      ]
     },
     "execution_count": 5,
     "metadata": {},
     "output_type": "execute_result"
    }
   ],
   "source": [
    "genome = [random.choice([1,0]) for _ in range(PROBLEM_SIZE)]\n",
    "genome"
   ]
  },
  {
   "cell_type": "code",
   "execution_count": 16,
   "metadata": {},
   "outputs": [],
   "source": [
    "genomes = [tuple([random.choice([1, 0]) for _ in range(PROBLEM_SIZE)]) for _ in range(POPULATION_SIZE)]"
   ]
  },
  {
   "cell_type": "code",
   "execution_count": 77,
   "metadata": {},
   "outputs": [
    {
     "data": {
      "text/plain": [
       "[((0, 0, 0, 1, 1, 0, 1, 1, 1, 1), 6),\n",
       " ((1, 1, 1, 0, 0, 1, 1, 1, 0, 1), 7),\n",
       " ((0, 0, 1, 0, 0, 0, 1, 1, 1, 0), 4),\n",
       " ((0, 0, 0, 1, 1, 0, 0, 1, 0, 1), 4),\n",
       " ((0, 0, 1, 1, 1, 0, 1, 0, 1, 1), 6),\n",
       " ((0, 1, 0, 0, 0, 0, 1, 1, 0, 1), 4),\n",
       " ((0, 0, 1, 1, 0, 1, 1, 0, 0, 0), 4),\n",
       " ((0, 1, 1, 1, 0, 0, 0, 0, 0, 1), 4),\n",
       " ((1, 1, 1, 0, 0, 1, 0, 0, 1, 1), 6),\n",
       " ((1, 1, 1, 0, 0, 0, 0, 0, 1, 1), 5)]"
      ]
     },
     "execution_count": 77,
     "metadata": {},
     "output_type": "execute_result"
    }
   ],
   "source": [
    "population = list()\n",
    "\n",
    "for genome in genomes:\n",
    "    population.append((genome, onemax(genome)))\n",
    "\n",
    "population"
   ]
  },
  {
   "cell_type": "code",
   "execution_count": 98,
   "metadata": {},
   "outputs": [
    {
     "data": {
      "text/plain": [
       "[((1, 1, 1, 1, 1, 1, 1, 1, 1, 1), 10),\n",
       " ((1, 1, 1, 1, 1, 0, 1, 1, 1, 1), 9),\n",
       " ((1, 1, 1, 1, 1, 0, 1, 1, 1, 1), 9),\n",
       " ((1, 1, 1, 1, 1, 0, 1, 1, 1, 1), 9),\n",
       " ((1, 1, 1, 1, 1, 0, 1, 1, 1, 1), 9),\n",
       " ((1, 1, 1, 1, 1, 0, 1, 1, 1, 1), 9),\n",
       " ((1, 1, 1, 1, 1, 0, 1, 1, 1, 1), 9),\n",
       " ((1, 1, 1, 1, 1, 0, 1, 1, 1, 1), 9),\n",
       " ((1, 1, 1, 1, 1, 0, 1, 1, 1, 1), 9),\n",
       " ((1, 1, 1, 1, 1, 0, 1, 1, 1, 1), 9)]"
      ]
     },
     "execution_count": 98,
     "metadata": {},
     "output_type": "execute_result"
    }
   ],
   "source": [
    "for i in range(OFFSPRING_SIZE):\n",
    "    if random.random() < .5:\n",
    "        p = select_parent(population)\n",
    "        o = mutation(p[0])\n",
    "    else:\n",
    "        p1 = select_parent(population, tournament_size=4)\n",
    "        p2 = select_parent(population, tournament_size=4)\n",
    "        o = cross_over(p1[0], p2[0])\n",
    "        \n",
    "    population.append((o, onemax(o)))\n",
    "\n",
    "population = sorted(population, key=lambda i: i[1], reverse=True)[:POPULATION_SIZE]\n",
    "\n",
    "\n",
    "population"
   ]
  },
  {
   "cell_type": "code",
   "execution_count": null,
   "metadata": {},
   "outputs": [],
   "source": []
  }
 ],
 "metadata": {
  "kernelspec": {
   "display_name": "Python 3.10.7 ('computational-intelligence-22-d46dY9UQ-py3.10')",
   "language": "python",
   "name": "python3"
  },
  "language_info": {
   "codemirror_mode": {
    "name": "ipython",
    "version": 3
   },
   "file_extension": ".py",
   "mimetype": "text/x-python",
   "name": "python",
   "nbconvert_exporter": "python",
   "pygments_lexer": "ipython3",
   "version": "3.10.7"
  },
  "orig_nbformat": 4,
  "vscode": {
   "interpreter": {
    "hash": "e2cac5c511265f8b63f7b343ed5ede5064e034baa4be93ef901ab348441652cd"
   }
  }
 },
 "nbformat": 4,
 "nbformat_minor": 2
}
