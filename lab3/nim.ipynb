{
 "cells": [
  {
   "cell_type": "markdown",
   "metadata": {},
   "source": [
    "# Lab 3 of Computationa Intelligence\n",
    "### Ricardo Nicida Kazama"
   ]
  },
  {
   "cell_type": "markdown",
   "metadata": {},
   "source": [
    "## Policy Search\n",
    "### Task\n",
    "Write agents able to play [Nim](https://en.wikipedia.org/wiki/Nim), with an arbitrary number of rows and an upper bound  on the number of objects that can be removed in a turn (a.k.a., subtraction game).\n",
    "\n",
    "The player taking the last object wins.\n",
    "\n",
    "- Task3.1: An agent using fixed rules based on nim-sum (i.e., an expert system)\n",
    "- Task3.2: An agent using evolved rules\n",
    "- Task3.3: An agent using minmax\n",
    "- Task3.4: An agent using reinforcement learning"
   ]
  },
  {
   "cell_type": "code",
   "execution_count": 1,
   "metadata": {},
   "outputs": [],
   "source": [
    "import logging\n",
    "from collections import namedtuple\n",
    "import random\n",
    "from typing import Callable\n",
    "from copy import deepcopy"
   ]
  },
  {
   "cell_type": "code",
   "execution_count": 2,
   "metadata": {},
   "outputs": [],
   "source": [
    "Nimply = namedtuple(\"Nimply\", \"row, num_objects\")"
   ]
  },
  {
   "cell_type": "code",
   "execution_count": 3,
   "metadata": {},
   "outputs": [],
   "source": [
    "class Nim:\n",
    "    def __init__(self, num_rows: int, k: int = None) -> None:\n",
    "        self._rows = [i * 2 + 1 for i in range(num_rows)]\n",
    "        self._k = k\n",
    "\n",
    "    def __bool__(self):\n",
    "        return sum(self._rows) > 0\n",
    "\n",
    "    def __str__(self):\n",
    "        return \"<\" + \" \".join(str(_) for _ in self._rows) + \">\"\n",
    "\n",
    "    @property\n",
    "    def rows(self) -> tuple:\n",
    "        return tuple(self._rows)\n",
    "\n",
    "    @property\n",
    "    def k(self) -> int:\n",
    "        return self._k\n",
    "\n",
    "    def nimming(self, ply: Nimply) -> None:\n",
    "        row, num_objects = ply\n",
    "        assert self._rows[row] >= num_objects\n",
    "        assert self._k is None or num_objects <= self._k\n",
    "        self._rows[row] -= num_objects\n",
    "\n",
    "    def undo(self, ply: Nimply) -> None:\n",
    "        row, num_objects = ply\n",
    "        self._rows[row] += num_objects\n"
   ]
  },
  {
   "cell_type": "code",
   "execution_count": 4,
   "metadata": {},
   "outputs": [],
   "source": [
    "def nim_sum(state: Nim) -> int:\n",
    "    \"\"\"\n",
    "    Computes the nim_sum \n",
    "    \"\"\"\n",
    "    rows = state.rows\n",
    "    xor = rows[0]\n",
    "    for row in rows[1:]:\n",
    "        xor = xor ^ row\n",
    "    return xor\n",
    "\n",
    "\n",
    "def cook_status(state: Nim) -> dict:\n",
    "    cooked = dict()\n",
    "    cooked[\"possible_moves\"] = [\n",
    "        (r, o) for r, c in enumerate(state.rows) for o in range(1, c + 1) if state.k is None or o <= state.k\n",
    "    ]\n",
    "    cooked[\"active_rows_number\"] = sum(o > 0 for o in state.rows)\n",
    "    cooked[\"active_rows_index\"] = [i for i in range(len(state.rows)) if state.rows[i]>0]\n",
    "    cooked[\"shortest_row\"] = min((x for x in enumerate(state.rows) if x[1] > 0), key=lambda y: y[1])[0]\n",
    "    cooked[\"longest_row\"] = max((x for x in enumerate(state.rows)), key=lambda y: y[1])[0]\n",
    "    cooked[\"nim_sum\"] = nim_sum(state)\n",
    "\n",
    "    return cooked"
   ]
  },
  {
   "cell_type": "markdown",
   "metadata": {},
   "source": [
    "### Sample (and silly) startegies"
   ]
  },
  {
   "cell_type": "code",
   "execution_count": 5,
   "metadata": {},
   "outputs": [],
   "source": [
    "def pure_random(state: Nim) -> Nimply:\n",
    "    row = random.choice([r for r, c in enumerate(state.rows) if c > 0])\n",
    "    num_objects = random.randint(1, state.rows[row])\n",
    "    return Nimply(row, num_objects)\n",
    "\n",
    "def gabriele(state: Nim) -> Nimply:\n",
    "    \"\"\"Pick always the maximum possible number of the lowest row\"\"\"\n",
    "    possible_moves = [(r, o) for r, c in enumerate(state.rows) for o in range(1, c + 1)]\n",
    "    return Nimply(*max(possible_moves, key=lambda m: (-m[0], m[1])))\n",
    "    "
   ]
  },
  {
   "cell_type": "markdown",
   "metadata": {},
   "source": [
    "### Task 3.1\n",
    "An agent using fixed rules based on nim-sum (i.e., an expert system)\n",
    "\n",
    "The main function of this section is the nim_sum_strategy that is made of two other functions. The solution is based on the nim-sum where the values are exhaustive tested. Both regressive and progressive searches where similiar in terms of number of plys. "
   ]
  },
  {
   "cell_type": "code",
   "execution_count": 6,
   "metadata": {},
   "outputs": [],
   "source": [
    "def take_one(state: Nim, i: int=-1) -> Nimply:\n",
    "    \"\"\"\n",
    "    Take one object from the row with maximum number of objects (i=-1). The parameter 'i' can be inputed.\n",
    "    \"\"\"\n",
    "    if i == -1:\n",
    "        cooked = cook_status(state)\n",
    "        i = cooked[\"longest_row\"]\n",
    "    return Nimply(i, 1)\n",
    "\n",
    "\n",
    "def leave_one(state: Nim, i: int=-1) -> Nimply:\n",
    "    \"\"\"\n",
    "    Leave one object from the row with maximum number of objects (i=-1). The parameter 'i' can be inputed.\n",
    "    \"\"\"\n",
    "    if i == -1:\n",
    "        cooked = cook_status(state)\n",
    "        i = cooked[\"longest_row\"]\n",
    "    return Nimply(i, state.rows[i]-1)\n",
    "    \n",
    "\n",
    "def take_all(state: Nim, i: int=-1) -> Nimply:\n",
    "    \"\"\"\n",
    "    Take all objects from the row with maximum number of objects (i=-1). The parameter 'i' can be inputed.\n",
    "    \"\"\"\n",
    "    if i == -1:\n",
    "        cooked = cook_status(state)\n",
    "        i = cooked[\"longest_row\"]\n",
    "    return Nimply(i, state.rows[i])\n",
    "\n",
    "\n",
    "def progressive_nim_sum_strategy(state: Nim) -> Nimply:\n",
    "    \"\"\"\n",
    "    Seraches by testing each possible value for each row from up (smaller row) to bottom (biggest row).\n",
    "    It makes the smallest ply possible that still makes the nim sum goes to zero.\n",
    "    \"\"\"\n",
    "    rows = state.rows\n",
    "    rows_index = range(len(rows))\n",
    "    for row, i in zip(rows, rows_index):\n",
    "        if row > 0:\n",
    "            for value in range(1, row+1):\n",
    "                state.nimming(Nimply(i, value))\n",
    "                if nim_sum(state) == 0:\n",
    "                    state.undo(Nimply(i, value))\n",
    "                    return Nimply(i, value)\n",
    "                state.undo(Nimply(i, value))\n",
    "\n",
    "\n",
    "def regressive_nim_sum_strategy(state: Nim) -> Nimply:\n",
    "    \"\"\"\n",
    "    Opposite of progressive_nim_sum_strategy\n",
    "    Seraches by testing each possible value for each row from bottom (biggest row) to up (smaller row).\n",
    "    It makes the biggest ply possible that still makes the nim sum goes to zero.\n",
    "    \"\"\"\n",
    "    rows = state.rows\n",
    "    rows_index = range(len(rows))\n",
    "    rows_zip = list(zip(rows, rows_index))\n",
    "    rows_zip.reverse()\n",
    "    for row, i in rows_zip:\n",
    "        if row > 0:\n",
    "            for value in range(row, 0, -1):\n",
    "                state.nimming(Nimply(i, value))\n",
    "                if nim_sum(state) == 0:\n",
    "                    state.undo(Nimply(i, value))\n",
    "                    return Nimply(i, value)\n",
    "                state.undo(Nimply(i, value))\n",
    "\n",
    "def nim_sum_strategy(state: Nim) -> Nimply:\n",
    "    \"\"\"\n",
    "    Uses the take_one function when the nim sum is equal to zero and uses the regressive_nim_sum_strategy otherwise.\n",
    "    \"\"\"\n",
    "    ns = nim_sum(state)\n",
    "    if ns == 0:\n",
    "        return take_one(state)\n",
    "    else:\n",
    "        return regressive_nim_sum_strategy(state)\n",
    "        # return progressive_nim_sum_strategy(state)\n",
    "    "
   ]
  },
  {
   "cell_type": "markdown",
   "metadata": {},
   "source": [
    "After realizing that the previous function tends to be the optimal player and not a hard coded function that might make mistakes more often, I developed a new function to be used for evolving its rules. "
   ]
  },
  {
   "cell_type": "code",
   "execution_count": 7,
   "metadata": {},
   "outputs": [],
   "source": [
    "Genome = namedtuple(\"Genome\", \"p_longest, p_take_one, p_leave_one, p_take_all\")\n",
    "\n",
    "def make_strategy(genome: Genome) -> Callable:\n",
    "    def basic_strategy(state: Nim) -> Nimply:\n",
    "        cooked = cook_status(state)\n",
    "        p = random.random()\n",
    "\n",
    "        if genome.p_longest >= p:\n",
    "            i = cooked[\"longest_row\"]\n",
    "        else:\n",
    "            i = cooked[\"shortest_row\"]\n",
    "\n",
    "        if genome.p_take_one >= p:\n",
    "            ply = take_one(state, i=i)\n",
    "        elif genome.p_leave_one >= p and state.rows[i]>=2:\n",
    "            ply = leave_one(state, i=i)\n",
    "        elif genome.p_take_all >= p:\n",
    "            ply = take_all(state, i=i)\n",
    "        else:\n",
    "            ply = take_one(state)\n",
    "        \n",
    "        return ply\n",
    "    \n",
    "    return basic_strategy "
   ]
  },
  {
   "cell_type": "markdown",
   "metadata": {},
   "source": []
  },
  {
   "cell_type": "markdown",
   "metadata": {},
   "source": [
    "### Match"
   ]
  },
  {
   "cell_type": "code",
   "execution_count": 8,
   "metadata": {},
   "outputs": [],
   "source": [
    "# print the match\n",
    "def print_nim(state, player, status):\n",
    "    if player == None:\n",
    "        print(\"Initial board\" + status)\n",
    "    else:\n",
    "        print(f\"After player {player}\" + status)\n",
    "    for i in range(len(state.rows)):\n",
    "        n = state.rows[i]\n",
    "        print(\"|\"*n + \".\"*(i*2+1-n))\n",
    "\n",
    "def status(state):\n",
    "    state_str = f\"{state}\"\n",
    "    return f\"-> {state_str:>25} | nim_sum = {nim_sum(state):2}\""
   ]
  },
  {
   "cell_type": "markdown",
   "metadata": {},
   "source": [
    "#### nim_sum_strategy vs pure_random"
   ]
  },
  {
   "cell_type": "code",
   "execution_count": 9,
   "metadata": {},
   "outputs": [
    {
     "name": "stderr",
     "output_type": "stream",
     "text": [
      "DEBUG:root:status: Initial board ->                 <1 3 5 7> | nim_sum =  0\n",
      "DEBUG:root:status: After player 0->                 <1 3 5 6> | nim_sum =  1\n",
      "DEBUG:root:status: After player 1->                 <1 2 5 6> | nim_sum =  0\n",
      "DEBUG:root:status: After player 0->                 <1 2 5 5> | nim_sum =  3\n",
      "DEBUG:root:status: After player 1->                 <1 2 2 5> | nim_sum =  4\n",
      "DEBUG:root:status: After player 0->                 <1 2 2 1> | nim_sum =  0\n",
      "DEBUG:root:status: After player 1->                 <1 2 2 0> | nim_sum =  1\n",
      "DEBUG:root:status: After player 0->                 <0 2 2 0> | nim_sum =  0\n",
      "DEBUG:root:status: After player 1->                 <0 2 0 0> | nim_sum =  2\n",
      "DEBUG:root:status: After player 0->                 <0 0 0 0> | nim_sum =  0\n",
      "INFO:root:status: Player 0 won in ply #9!\n"
     ]
    },
    {
     "name": "stdout",
     "output_type": "stream",
     "text": [
      "Initial board->                 <1 3 5 7> | nim_sum =  0\n",
      "|\n",
      "|||\n",
      "|||||\n",
      "|||||||\n",
      "After player 0->                 <1 3 5 6> | nim_sum =  1\n",
      "|\n",
      "|||\n",
      "|||||\n",
      "||||||.\n",
      "After player 1->                 <1 2 5 6> | nim_sum =  0\n",
      "|\n",
      "||.\n",
      "|||||\n",
      "||||||.\n",
      "After player 0->                 <1 2 5 5> | nim_sum =  3\n",
      "|\n",
      "||.\n",
      "|||||\n",
      "|||||..\n",
      "After player 1->                 <1 2 2 5> | nim_sum =  4\n",
      "|\n",
      "||.\n",
      "||...\n",
      "|||||..\n",
      "After player 0->                 <1 2 2 1> | nim_sum =  0\n",
      "|\n",
      "||.\n",
      "||...\n",
      "|......\n",
      "After player 1->                 <1 2 2 0> | nim_sum =  1\n",
      "|\n",
      "||.\n",
      "||...\n",
      ".......\n",
      "After player 0->                 <0 2 2 0> | nim_sum =  0\n",
      ".\n",
      "||.\n",
      "||...\n",
      ".......\n",
      "After player 1->                 <0 2 0 0> | nim_sum =  2\n",
      ".\n",
      "||.\n",
      ".....\n",
      ".......\n",
      "After player 0->                 <0 0 0 0> | nim_sum =  0\n",
      ".\n",
      "...\n",
      ".....\n",
      ".......\n",
      "status: Player 0 won in ply #9!\n"
     ]
    }
   ],
   "source": [
    "logging.getLogger().setLevel(logging.DEBUG)\n",
    "\n",
    "# strategy = (pure_random, nim_sum_strategy)\n",
    "strategy = (nim_sum_strategy, pure_random)\n",
    "\n",
    "nim = Nim(4)\n",
    "\n",
    "\n",
    "logging.debug(\"status: Initial board \"+ status(nim))\n",
    "print_nim(nim, None, status(nim))\n",
    "\n",
    "ply_counter = 0\n",
    "player = 0\n",
    "while nim:\n",
    "    ply = strategy[player](nim)\n",
    "    nim.nimming(ply)\n",
    "    logging.debug(f\"status: After player {player}\" + status(nim))\n",
    "    print_nim(nim, player, status(nim))\n",
    "    player = 1 - player\n",
    "    ply_counter += 1\n",
    "winner = 1 - player\n",
    "\n",
    "final_message = f\"status: Player {winner} won in ply #{ply_counter}!\"\n",
    "logging.info(final_message)\n",
    "print(final_message)"
   ]
  },
  {
   "cell_type": "markdown",
   "metadata": {},
   "source": [
    "#### basic_stategy vs pure_random"
   ]
  },
  {
   "cell_type": "code",
   "execution_count": 11,
   "metadata": {},
   "outputs": [
    {
     "name": "stderr",
     "output_type": "stream",
     "text": [
      "DEBUG:root:status: Initial board ->            <1 3 5 7 9 11> | nim_sum =  2\n",
      "DEBUG:root:status: After player 0->             <1 3 5 7 9 1> | nim_sum =  8\n",
      "DEBUG:root:status: After player 1->             <1 3 1 7 9 1> | nim_sum = 12\n",
      "DEBUG:root:status: After player 0->             <0 3 1 7 9 1> | nim_sum = 13\n",
      "DEBUG:root:status: After player 1->             <0 3 1 1 9 1> | nim_sum = 11\n",
      "DEBUG:root:status: After player 0->             <0 3 1 1 1 1> | nim_sum =  3\n",
      "DEBUG:root:status: After player 1->             <0 3 1 1 0 1> | nim_sum =  2\n",
      "DEBUG:root:status: After player 0->             <0 3 0 1 0 1> | nim_sum =  3\n",
      "DEBUG:root:status: After player 1->             <0 3 0 0 0 1> | nim_sum =  2\n",
      "DEBUG:root:status: After player 0->             <0 3 0 0 0 0> | nim_sum =  3\n",
      "DEBUG:root:status: After player 1->             <0 1 0 0 0 0> | nim_sum =  1\n",
      "DEBUG:root:status: After player 0->             <0 0 0 0 0 0> | nim_sum =  0\n",
      "INFO:root:status: Player 0 won in ply #11!\n"
     ]
    },
    {
     "name": "stdout",
     "output_type": "stream",
     "text": [
      "status: Player 0 won in ply #11!\n"
     ]
    }
   ],
   "source": [
    "logging.getLogger().setLevel(logging.DEBUG)\n",
    "\n",
    "genome = Genome(0.5, 0.3, 0.6, 0.9)\n",
    "strategy = (make_strategy(genome), pure_random)\n",
    "\n",
    "nim = Nim(6)\n",
    "\n",
    "\n",
    "logging.debug(\"status: Initial board \"+ status(nim))\n",
    "# print_nim(nim, None, status(nim))\n",
    "\n",
    "ply_counter = 0\n",
    "player = 0\n",
    "while nim:\n",
    "    ply = strategy[player](nim)\n",
    "    nim.nimming(ply)\n",
    "    logging.debug(f\"status: After player {player}\" + status(nim))\n",
    "    # print_nim(nim, player, status(nim))\n",
    "    player = 1 - player\n",
    "    ply_counter += 1\n",
    "winner = 1 - player\n",
    "\n",
    "final_message = f\"status: Player {winner} won in ply #{ply_counter}!\"\n",
    "logging.info(final_message)\n",
    "print(final_message)"
   ]
  },
  {
   "cell_type": "code",
   "execution_count": null,
   "metadata": {},
   "outputs": [],
   "source": []
  }
 ],
 "metadata": {
  "kernelspec": {
   "display_name": "Python 3.10.7 ('computational-intelligence-22-d46dY9UQ-py3.10')",
   "language": "python",
   "name": "python3"
  },
  "language_info": {
   "codemirror_mode": {
    "name": "ipython",
    "version": 3
   },
   "file_extension": ".py",
   "mimetype": "text/x-python",
   "name": "python",
   "nbconvert_exporter": "python",
   "pygments_lexer": "ipython3",
   "version": "3.10.7"
  },
  "orig_nbformat": 4,
  "vscode": {
   "interpreter": {
    "hash": "e2cac5c511265f8b63f7b343ed5ede5064e034baa4be93ef901ab348441652cd"
   }
  }
 },
 "nbformat": 4,
 "nbformat_minor": 2
}
