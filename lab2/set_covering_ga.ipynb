{
 "cells": [
  {
   "cell_type": "markdown",
   "metadata": {},
   "source": [
    "# Lab 2 of Computationa Intelligence\n",
    "### Ricardo Nicida Kazama"
   ]
  },
  {
   "cell_type": "markdown",
   "metadata": {},
   "source": [
    "## Set Covering with Genetic Algorithm\n",
    "### Task \n",
    "Given a number $N$ and some lists of integers $P = (L_0,L_1,L_2,...,L_N)$, determine, if possible, $S = (L_{S_0},L_{S_1},L_{S_2},...,L_{S_N})$ such that each number between $0$ and $N-1$ appears in at least one list\n",
    "\\begin{equation}\n",
    "    \\forall n \\in [0,N-1] \\ \\exist i : n \\in L_{S_i}\n",
    "\\end{equation}"
   ]
  },
  {
   "cell_type": "markdown",
   "metadata": {},
   "source": [
    "### Problem generator"
   ]
  },
  {
   "cell_type": "code",
   "execution_count": 1,
   "metadata": {},
   "outputs": [],
   "source": [
    "import logging\n",
    "import random"
   ]
  },
  {
   "cell_type": "code",
   "execution_count": 2,
   "metadata": {},
   "outputs": [],
   "source": [
    "def problem(N, seed=None):\n",
    "    \"\"\"Creates an instance of the problem\"\"\"\n",
    "\n",
    "    random.seed(seed)\n",
    "    return [\n",
    "        list(set(random.randint(0, N - 1) for n in range(random.randint(N // 5, N // 2))))\n",
    "        for n in range(random.randint(N, N * 5))\n",
    "    ]"
   ]
  },
  {
   "cell_type": "markdown",
   "metadata": {},
   "source": [
    "### Solution"
   ]
  },
  {
   "cell_type": "code",
   "execution_count": 3,
   "metadata": {},
   "outputs": [],
   "source": [
    "from itertools import compress\n",
    "from collections import namedtuple"
   ]
  },
  {
   "cell_type": "code",
   "execution_count": 116,
   "metadata": {},
   "outputs": [],
   "source": [
    "N = 5\n",
    "POPULATION_SIZE = 10\n",
    "OFFSPRING_SIZE = 2\n",
    "GENERATIONS = 5\n",
    "PROB = 0.5 # probability to choose 1 for each one of the locus in the population\n",
    "Individual = namedtuple('Individual', ('genome', 'fitness','goal_reached', 'w'))"
   ]
  },
  {
   "cell_type": "code",
   "execution_count": 108,
   "metadata": {},
   "outputs": [],
   "source": [
    "# this function evaluats the fitness and if the goal was reached\n",
    "def fitness_goal_eval(list_of_lists, genome, goal):\n",
    "    current_goal = goal\n",
    "    solution = list(compress(list_of_lists, genome))\n",
    "    # fitness = 0\n",
    "    new_elements = 0\n",
    "    repeated_elements = 0\n",
    "    w = 0\n",
    "    goal_reached = False\n",
    "\n",
    "    if len(solution) == 0:\n",
    "        return 0, False, 0\n",
    "        \n",
    "    for list_ in solution:\n",
    "        list_length = len(list_)\n",
    "        list_ = set(list_)\n",
    "        cg_length = len(current_goal)\n",
    "        current_goal = current_goal - list_\n",
    "        cg_new_length = len(current_goal)\n",
    "\n",
    "        # fitness += cg_length - cg_new_length   # new elements (positive)\n",
    "        # fitness += (cg_length - cg_new_length) - list_length # repeated elements (negative)\n",
    "        new_elements += cg_length - cg_new_length   # new elements\n",
    "        repeated_elements += list_length - (cg_length - cg_new_length) # repeated elements\n",
    "\n",
    "        w += list_length\n",
    "\n",
    "    if cg_new_length == 0:\n",
    "        goal_reached = True\n",
    "\n",
    "    fitness = new_elements - repeated_elements\n",
    "\n",
    "    return fitness, goal_reached, w\n",
    "\n",
    "\n",
    "def generate_population(list_of_lists, goal):\n",
    "    population = list()\n",
    "\n",
    "    genomes = [tuple(random.choices([1, 0], weights=(PROB,1-PROB), k=len(list_of_lists))) for _ in range(POPULATION_SIZE)]\n",
    "\n",
    "    for genome in genomes:\n",
    "        fitness, goal_reached, w = fitness_goal_eval(list_of_lists, genome, goal)\n",
    "        population.append(Individual(genome, fitness, goal_reached, w))\n",
    "    return population\n",
    "\n",
    "\n",
    "def select_parent(population, tournament_size=2):\n",
    "    subset = random.choices(population, k=tournament_size)\n",
    "    return max(subset, key=lambda i: i.fitness)\n",
    "\n",
    "\n",
    "def cross_over(p1, p2, genome_size, list_of_lists, goal):\n",
    "    g1, f1 = p1.genome, p1.fitness\n",
    "    g2, f2 = p2.genome, p2.fitness\n",
    "    cut = int((f1+1e-6)/(f1+f2+1e-6)*genome_size)\n",
    "    ng1 = g1[:cut] + g2[cut:]\n",
    "    # ng2 = g2[-cut:] + g1[:-cut]\n",
    "    # _, f_gn1, _ = fitness_goal_eval(list_of_lists, ng1, goal)\n",
    "    # _, f_gn2, _ = fitness_goal_eval(list_of_lists, ng2, goal)\n",
    "    # if f_gn1 < f_gn2:\n",
    "    #     return ng2\n",
    "    return ng1\n",
    "\n",
    "\n",
    "def mutation(g, genome_size, k=1):\n",
    "    for _ in range(k):\n",
    "        cut = random.randint(1, genome_size)\n",
    "        if N < 20:\n",
    "            ng = g[:cut-1] + (1-g[cut-1],) + g[cut:]\n",
    "        else: \n",
    "            cut_size = int(genome_size*0.2)\n",
    "            new_genome_cut = tuple(random.choices([1, 0], weights=(1, 39), k=2*cut_size))\n",
    "            ng = g[:cut-1-cut_size] + new_genome_cut + g[cut+cut_size:]\n",
    "    return ng"
   ]
  },
  {
   "cell_type": "code",
   "execution_count": 102,
   "metadata": {},
   "outputs": [],
   "source": [
    "def genetic_algorithm():\n",
    "    # create problem\n",
    "    list_of_lists = problem(N, seed=42)\n",
    "    genome_size = len(list_of_lists)\n",
    "    goal = set(range(N))\n",
    "\n",
    "    # create the population\n",
    "    population = generate_population(list_of_lists, goal)\n",
    "\n",
    "    for g in range(GENERATIONS):\n",
    "        population = sorted(population, key=lambda i: i.fitness, reverse=True)[:POPULATION_SIZE-OFFSPRING_SIZE]\n",
    "\n",
    "        for i in range(OFFSPRING_SIZE):\n",
    "            p1 = select_parent(population, tournament_size=int(0.2*genome_size))\n",
    "            p2 = select_parent(population, tournament_size=int(0.2*genome_size))\n",
    "            o = cross_over(p1, p2, genome_size, list_of_lists, goal)\n",
    "            fitness, goal_reached, w = fitness_goal_eval(list_of_lists, o, goal)\n",
    "            o = mutation(o, genome_size, k=2)\n",
    "                \n",
    "            population.append(Individual(o, fitness, goal_reached, w))\n",
    "\n",
    "        \n",
    "    \n",
    "    for i in population:\n",
    "        if i.goal_reached:\n",
    "            return i, population\n",
    "    \n",
    "    print(f\"No solution for current population (N={N})\")\n",
    "    return None, population"
   ]
  },
  {
   "cell_type": "code",
   "execution_count": 112,
   "metadata": {},
   "outputs": [
    {
     "name": "stderr",
     "output_type": "stream",
     "text": [
      "INFO:root: Genetic algorithm solution for N=500: fitness=-6,876 w=7,876 (bloat=1575%)\n"
     ]
    }
   ],
   "source": [
    "N = 500\n",
    "POPULATION_SIZE = 50\n",
    "OFFSPRING_SIZE = 20\n",
    "GENERATIONS = 200\n",
    "PROB = 0.5\n",
    "\n",
    "logging.getLogger().setLevel(logging.INFO)\n",
    "\n",
    "solution, population = genetic_algorithm()\n",
    "if solution != None:\n",
    "    logging.info(\n",
    "        f\" Genetic algorithm solution for N={N:,}: \"\n",
    "        + f\"fitness={solution.fitness:,} \"\n",
    "        + f\"w={solution.w:,} \"\n",
    "        + f\"(bloat={solution.w/N*100:.0f}%)\"\n",
    "    )\n"
   ]
  },
  {
   "cell_type": "code",
   "execution_count": null,
   "metadata": {},
   "outputs": [],
   "source": []
  },
  {
   "cell_type": "code",
   "execution_count": 114,
   "metadata": {},
   "outputs": [
    {
     "name": "stderr",
     "output_type": "stream",
     "text": [
      "INFO:root: Genetic algorithm solution for N=5: fitness=5 w=5 (bloat=100%)\n",
      "INFO:root: Genetic algorithm solution for N=10: fitness=9 w=11 (bloat=110%)\n"
     ]
    },
    {
     "name": "stdout",
     "output_type": "stream",
     "text": [
      "No solution for current population (N=20)\n"
     ]
    },
    {
     "name": "stderr",
     "output_type": "stream",
     "text": [
      "INFO:root: Genetic algorithm solution for N=100: fitness=-124 w=324 (bloat=324%)\n",
      "INFO:root: Genetic algorithm solution for N=500: fitness=-6,876 w=7,876 (bloat=1575%)\n",
      "INFO:root: Genetic algorithm solution for N=1,000: fitness=-183,263 w=185,263 (bloat=18526%)\n"
     ]
    }
   ],
   "source": [
    "N = 500\n",
    "POPULATION_SIZE = 50\n",
    "OFFSPRING_SIZE = 20\n",
    "GENERATIONS = 200\n",
    "PROB = 0.5\n",
    "\n",
    "logging.getLogger().setLevel(logging.INFO)\n",
    "\n",
    "for N in [5, 10, 20, 100, 500, 1000]:\n",
    "    solution, population = genetic_algorithm()\n",
    "    if solution != None:\n",
    "        logging.info(\n",
    "            f\" Genetic algorithm solution for N={N:,}: \"\n",
    "            + f\"fitness={solution.fitness:,} \"\n",
    "            + f\"w={solution.w:,} \"\n",
    "            + f\"(bloat={solution.w/N*100:.0f}%)\"\n",
    "        )"
   ]
  },
  {
   "cell_type": "code",
   "execution_count": null,
   "metadata": {},
   "outputs": [],
   "source": []
  }
 ],
 "metadata": {
  "kernelspec": {
   "display_name": "Python 3.10.7 ('computational-intelligence-22-d46dY9UQ-py3.10')",
   "language": "python",
   "name": "python3"
  },
  "language_info": {
   "codemirror_mode": {
    "name": "ipython",
    "version": 3
   },
   "file_extension": ".py",
   "mimetype": "text/x-python",
   "name": "python",
   "nbconvert_exporter": "python",
   "pygments_lexer": "ipython3",
   "version": "3.10.7"
  },
  "orig_nbformat": 4,
  "vscode": {
   "interpreter": {
    "hash": "e2cac5c511265f8b63f7b343ed5ede5064e034baa4be93ef901ab348441652cd"
   }
  }
 },
 "nbformat": 4,
 "nbformat_minor": 2
}
